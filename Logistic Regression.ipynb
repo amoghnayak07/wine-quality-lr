{
 "cells": [
  {
   "cell_type": "code",
   "execution_count": 1,
   "id": "51d630c1-41bd-46b0-a8ad-dfa3df741935",
   "metadata": {},
   "outputs": [],
   "source": [
    "import numpy as np\n",
    "import matplotlib.pyplot as plt\n",
    "import pandas as pd\n",
    "import seaborn as sns\n",
    "from sklearn.preprocessing import RobustScaler\n",
    "from sklearn.model_selection import train_test_split"
   ]
  },
  {
   "cell_type": "code",
   "execution_count": 2,
   "id": "c1ed36c5-85da-4475-ab73-a4b1d2bb3d54",
   "metadata": {},
   "outputs": [],
   "source": [
    "df = pd.read_csv(\"winequality-red.csv\", sep=\";\")"
   ]
  },
  {
   "cell_type": "code",
   "execution_count": 3,
   "id": "ba7b8701-09d0-47e1-91b9-16413e3f6d94",
   "metadata": {},
   "outputs": [
    {
     "name": "stdout",
     "output_type": "stream",
     "text": [
      "   fixed acidity  volatile acidity  citric acid  residual sugar  chlorides  \\\n",
      "0            7.4              0.70         0.00             1.9      0.076   \n",
      "1            7.8              0.88         0.00             2.6      0.098   \n",
      "2            7.8              0.76         0.04             2.3      0.092   \n",
      "3           11.2              0.28         0.56             1.9      0.075   \n",
      "4            7.4              0.70         0.00             1.9      0.076   \n",
      "\n",
      "   free sulfur dioxide  total sulfur dioxide  density    pH  sulphates  \\\n",
      "0                 11.0                  34.0   0.9978  3.51       0.56   \n",
      "1                 25.0                  67.0   0.9968  3.20       0.68   \n",
      "2                 15.0                  54.0   0.9970  3.26       0.65   \n",
      "3                 17.0                  60.0   0.9980  3.16       0.58   \n",
      "4                 11.0                  34.0   0.9978  3.51       0.56   \n",
      "\n",
      "   alcohol  quality  \n",
      "0      9.4        5  \n",
      "1      9.8        5  \n",
      "2      9.8        5  \n",
      "3      9.8        6  \n",
      "4      9.4        5  \n"
     ]
    }
   ],
   "source": [
    "print(df[:5])"
   ]
  },
  {
   "cell_type": "code",
   "execution_count": 4,
   "id": "ee2c2c72-5752-47dd-b200-133cb71e7ff4",
   "metadata": {},
   "outputs": [],
   "source": [
    "X = df.drop(\"quality\", axis=1)"
   ]
  },
  {
   "cell_type": "code",
   "execution_count": 5,
   "id": "b5735f8f-91aa-4ab2-9741-3dc24dae4bb3",
   "metadata": {},
   "outputs": [
    {
     "data": {
      "text/plain": [
       "quality\n",
       "5    681\n",
       "6    638\n",
       "7    199\n",
       "4     53\n",
       "8     18\n",
       "3     10\n",
       "Name: count, dtype: int64"
      ]
     },
     "execution_count": 5,
     "metadata": {},
     "output_type": "execute_result"
    }
   ],
   "source": [
    "df[\"quality\"].value_counts()"
   ]
  },
  {
   "cell_type": "code",
   "execution_count": 6,
   "id": "a18db399-b41b-4e4b-91de-774638d991cd",
   "metadata": {},
   "outputs": [],
   "source": [
    "df = df.replace({\"quality\": {8: 1, 7: 1, 6: 0, 5: 0, 4: 0, 3: 0}})"
   ]
  },
  {
   "cell_type": "code",
   "execution_count": 7,
   "id": "8b29eac9-19a0-4794-86d6-59f936539260",
   "metadata": {},
   "outputs": [
    {
     "data": {
      "text/plain": [
       "fixed acidity           0.120061\n",
       "volatile acidity       -0.270712\n",
       "citric acid             0.214716\n",
       "residual sugar          0.047779\n",
       "chlorides              -0.097308\n",
       "free sulfur dioxide    -0.071747\n",
       "total sulfur dioxide   -0.139517\n",
       "density                -0.150460\n",
       "pH                     -0.057283\n",
       "sulphates               0.199485\n",
       "alcohol                 0.407315\n",
       "dtype: float64"
      ]
     },
     "execution_count": 7,
     "metadata": {},
     "output_type": "execute_result"
    }
   ],
   "source": [
    "X.corrwith(df['quality'])"
   ]
  },
  {
   "cell_type": "markdown",
   "id": "1e062c71-7fc9-4889-bd51-a0de7b13b967",
   "metadata": {},
   "source": [
    "**Dropping some features that don't have an effect on the quality of wine.**"
   ]
  },
  {
   "cell_type": "code",
   "execution_count": 8,
   "id": "2fb9fa00-f561-48a2-bd52-b596f1480dc1",
   "metadata": {},
   "outputs": [],
   "source": [
    "x_train = df.drop([\"quality\", \"free sulfur dioxide\", \"residual sugar\", \"fixed acidity\", \"pH\", \"total sulfur dioxide\"], axis=1)\n",
    "y_train = df[\"quality\"]"
   ]
  },
  {
   "cell_type": "code",
   "execution_count": 9,
   "id": "e173ac96-21ab-44e1-a9cd-174dbff7414f",
   "metadata": {},
   "outputs": [
    {
     "data": {
      "text/html": [
       "<div>\n",
       "<style scoped>\n",
       "    .dataframe tbody tr th:only-of-type {\n",
       "        vertical-align: middle;\n",
       "    }\n",
       "\n",
       "    .dataframe tbody tr th {\n",
       "        vertical-align: top;\n",
       "    }\n",
       "\n",
       "    .dataframe thead th {\n",
       "        text-align: right;\n",
       "    }\n",
       "</style>\n",
       "<table border=\"1\" class=\"dataframe\">\n",
       "  <thead>\n",
       "    <tr style=\"text-align: right;\">\n",
       "      <th></th>\n",
       "      <th>volatile acidity</th>\n",
       "      <th>citric acid</th>\n",
       "      <th>chlorides</th>\n",
       "      <th>density</th>\n",
       "      <th>sulphates</th>\n",
       "      <th>alcohol</th>\n",
       "    </tr>\n",
       "  </thead>\n",
       "  <tbody>\n",
       "    <tr>\n",
       "      <th>0</th>\n",
       "      <td>0.70</td>\n",
       "      <td>0.00</td>\n",
       "      <td>0.076</td>\n",
       "      <td>0.9978</td>\n",
       "      <td>0.56</td>\n",
       "      <td>9.4</td>\n",
       "    </tr>\n",
       "    <tr>\n",
       "      <th>1</th>\n",
       "      <td>0.88</td>\n",
       "      <td>0.00</td>\n",
       "      <td>0.098</td>\n",
       "      <td>0.9968</td>\n",
       "      <td>0.68</td>\n",
       "      <td>9.8</td>\n",
       "    </tr>\n",
       "    <tr>\n",
       "      <th>2</th>\n",
       "      <td>0.76</td>\n",
       "      <td>0.04</td>\n",
       "      <td>0.092</td>\n",
       "      <td>0.9970</td>\n",
       "      <td>0.65</td>\n",
       "      <td>9.8</td>\n",
       "    </tr>\n",
       "    <tr>\n",
       "      <th>3</th>\n",
       "      <td>0.28</td>\n",
       "      <td>0.56</td>\n",
       "      <td>0.075</td>\n",
       "      <td>0.9980</td>\n",
       "      <td>0.58</td>\n",
       "      <td>9.8</td>\n",
       "    </tr>\n",
       "    <tr>\n",
       "      <th>4</th>\n",
       "      <td>0.70</td>\n",
       "      <td>0.00</td>\n",
       "      <td>0.076</td>\n",
       "      <td>0.9978</td>\n",
       "      <td>0.56</td>\n",
       "      <td>9.4</td>\n",
       "    </tr>\n",
       "  </tbody>\n",
       "</table>\n",
       "</div>"
      ],
      "text/plain": [
       "   volatile acidity  citric acid  chlorides  density  sulphates  alcohol\n",
       "0              0.70         0.00      0.076   0.9978       0.56      9.4\n",
       "1              0.88         0.00      0.098   0.9968       0.68      9.8\n",
       "2              0.76         0.04      0.092   0.9970       0.65      9.8\n",
       "3              0.28         0.56      0.075   0.9980       0.58      9.8\n",
       "4              0.70         0.00      0.076   0.9978       0.56      9.4"
      ]
     },
     "execution_count": 9,
     "metadata": {},
     "output_type": "execute_result"
    }
   ],
   "source": [
    "x_train[:5]"
   ]
  },
  {
   "cell_type": "code",
   "execution_count": 10,
   "id": "5ec99e90-b193-4283-bb07-ce4b79a2b9de",
   "metadata": {},
   "outputs": [
    {
     "data": {
      "image/png": "[encoded data removed]",
      "text/plain": [
       "<Figure size 1000x600 with 1 Axes>"
      ]
     },
     "metadata": {},
     "output_type": "display_data"
    }
   ],
   "source": [
    "plt.figure(figsize=(10, 6))\n",
    "sns.boxplot(data=x_train)\n",
    "plt.xticks(rotation=45)\n",
    "plt.title(\"Boxplot for Outlier Detection\")\n",
    "plt.show()"
   ]
  },
  {
   "cell_type": "code",
   "execution_count": 11,
   "id": "81f30ae9-4844-4623-94a7-03be07144b94",
   "metadata": {},
   "outputs": [],
   "source": [
    "scaler = RobustScaler()\n",
    "X_scaled = scaler.fit_transform(x_train)\n",
    "X_train = pd.DataFrame(X_scaled, columns=x_train.columns)"
   ]
  },
  {
   "cell_type": "code",
   "execution_count": 12,
   "id": "2692670b-77b0-42d4-9afe-6641157f91d7",
   "metadata": {},
   "outputs": [
    {
     "data": {
      "text/html": [
       "<div>\n",
       "<style scoped>\n",
       "    .dataframe tbody tr th:only-of-type {\n",
       "        vertical-align: middle;\n",
       "    }\n",
       "\n",
       "    .dataframe tbody tr th {\n",
       "        vertical-align: top;\n",
       "    }\n",
       "\n",
       "    .dataframe thead th {\n",
       "        text-align: right;\n",
       "    }\n",
       "</style>\n",
       "<table border=\"1\" class=\"dataframe\">\n",
       "  <thead>\n",
       "    <tr style=\"text-align: right;\">\n",
       "      <th></th>\n",
       "      <th>volatile acidity</th>\n",
       "      <th>citric acid</th>\n",
       "      <th>chlorides</th>\n",
       "      <th>density</th>\n",
       "      <th>sulphates</th>\n",
       "      <th>alcohol</th>\n",
       "    </tr>\n",
       "  </thead>\n",
       "  <tbody>\n",
       "    <tr>\n",
       "      <th>0</th>\n",
       "      <td>0.72</td>\n",
       "      <td>-0.787879</td>\n",
       "      <td>-0.15</td>\n",
       "      <td>0.469799</td>\n",
       "      <td>-0.333333</td>\n",
       "      <td>-0.50</td>\n",
       "    </tr>\n",
       "    <tr>\n",
       "      <th>1</th>\n",
       "      <td>1.44</td>\n",
       "      <td>-0.787879</td>\n",
       "      <td>0.95</td>\n",
       "      <td>0.022371</td>\n",
       "      <td>0.333333</td>\n",
       "      <td>-0.25</td>\n",
       "    </tr>\n",
       "    <tr>\n",
       "      <th>2</th>\n",
       "      <td>0.96</td>\n",
       "      <td>-0.666667</td>\n",
       "      <td>0.65</td>\n",
       "      <td>0.111857</td>\n",
       "      <td>0.166667</td>\n",
       "      <td>-0.25</td>\n",
       "    </tr>\n",
       "    <tr>\n",
       "      <th>3</th>\n",
       "      <td>-0.96</td>\n",
       "      <td>0.909091</td>\n",
       "      <td>-0.20</td>\n",
       "      <td>0.559284</td>\n",
       "      <td>-0.222222</td>\n",
       "      <td>-0.25</td>\n",
       "    </tr>\n",
       "    <tr>\n",
       "      <th>4</th>\n",
       "      <td>0.72</td>\n",
       "      <td>-0.787879</td>\n",
       "      <td>-0.15</td>\n",
       "      <td>0.469799</td>\n",
       "      <td>-0.333333</td>\n",
       "      <td>-0.50</td>\n",
       "    </tr>\n",
       "  </tbody>\n",
       "</table>\n",
       "</div>"
      ],
      "text/plain": [
       "   volatile acidity  citric acid  chlorides   density  sulphates  alcohol\n",
       "0              0.72    -0.787879      -0.15  0.469799  -0.333333    -0.50\n",
       "1              1.44    -0.787879       0.95  0.022371   0.333333    -0.25\n",
       "2              0.96    -0.666667       0.65  0.111857   0.166667    -0.25\n",
       "3             -0.96     0.909091      -0.20  0.559284  -0.222222    -0.25\n",
       "4              0.72    -0.787879      -0.15  0.469799  -0.333333    -0.50"
      ]
     },
     "execution_count": 12,
     "metadata": {},
     "output_type": "execute_result"
    }
   ],
   "source": [
    "X_train[:5]"
   ]
  },
  {
   "cell_type": "code",
   "execution_count": 13,
   "id": "805ab89a-15b3-402a-9e06-4de8146485e7",
   "metadata": {},
   "outputs": [
    {
     "data": {
      "text/plain": [
       "0    0\n",
       "1    0\n",
       "2    0\n",
       "3    0\n",
       "4    0\n",
       "Name: quality, dtype: int64"
      ]
     },
     "execution_count": 13,
     "metadata": {},
     "output_type": "execute_result"
    }
   ],
   "source": [
    "y_train[:5]"
   ]
  },
  {
   "cell_type": "code",
   "execution_count": 14,
   "id": "8f641b85-353f-4d7b-8ae1-2f23e5aac88a",
   "metadata": {},
   "outputs": [
    {
     "data": {
      "text/plain": [
       "quality\n",
       "0    1382\n",
       "1     217\n",
       "Name: count, dtype: int64"
      ]
     },
     "execution_count": 14,
     "metadata": {},
     "output_type": "execute_result"
    }
   ],
   "source": [
    "y_train.value_counts()"
   ]
  },
  {
   "cell_type": "code",
   "execution_count": 15,
   "id": "a67de099-f9f3-4cb7-863e-2ad8654468cd",
   "metadata": {},
   "outputs": [],
   "source": [
    "X_train = X_train.to_numpy()\n",
    "y_train = y_train.to_numpy()"
   ]
  },
  {
   "cell_type": "code",
   "execution_count": 16,
   "id": "42f2ccab-d07e-456c-89a4-f6c4baaaebc9",
   "metadata": {},
   "outputs": [],
   "source": [
    "x_train, x_test, y_train, y_test = train_test_split(x_train, y_train)"
   ]
  },
  {
   "cell_type": "code",
   "execution_count": 17,
   "id": "f65a0064-8549-44c4-b79a-2731baa9852e",
   "metadata": {},
   "outputs": [
    {
     "data": {
      "text/plain": [
       "array([[ 0.72      , -0.78787879, -0.15      ,  0.46979866, -0.33333333,\n",
       "        -0.5       ],\n",
       "       [ 1.44      , -0.78787879,  0.95      ,  0.02237136,  0.33333333,\n",
       "        -0.25      ],\n",
       "       [ 0.96      , -0.66666667,  0.65      ,  0.11185682,  0.16666667,\n",
       "        -0.25      ],\n",
       "       ...,\n",
       "       [-0.04      , -0.39393939, -0.15      , -0.45190157,  0.72222222,\n",
       "         0.5       ],\n",
       "       [ 0.5       , -0.42424242, -0.2       , -0.57270694,  0.5       ,\n",
       "         0.        ],\n",
       "       [-0.84      ,  0.63636364, -0.6       , -0.56375839,  0.22222222,\n",
       "         0.5       ]])"
      ]
     },
     "execution_count": 17,
     "metadata": {},
     "output_type": "execute_result"
    }
   ],
   "source": [
    "X_train"
   ]
  },
  {
   "cell_type": "code",
   "execution_count": 18,
   "id": "3ca371c4-7244-4416-8d3c-9c5f7e9f6929",
   "metadata": {},
   "outputs": [
    {
     "data": {
      "text/plain": [
       "array([1, 0, 0, ..., 0, 0, 0])"
      ]
     },
     "execution_count": 18,
     "metadata": {},
     "output_type": "execute_result"
    }
   ],
   "source": [
    "y_train"
   ]
  },
  {
   "cell_type": "code",
   "execution_count": 19,
   "id": "5a50dec8-43f0-4cc2-9dc7-697f99bc1b9d",
   "metadata": {},
   "outputs": [],
   "source": [
    "def logistic_func(w, x, b):\n",
    "    f_wb = np.dot(x, w) + b\n",
    "\n",
    "    return 1 / (1 + np.exp(-f_wb))"
   ]
  },
  {
   "cell_type": "code",
   "execution_count": 20,
   "id": "855513a8-229e-4402-b390-da833aa56665",
   "metadata": {},
   "outputs": [],
   "source": [
    "def compute_cost(w, b, x, y):\n",
    "    m = x.shape[0]\n",
    "    y_pred = logistic_func(w, x, b)\n",
    "    \n",
    "    L = -np.dot(y, np.log(logistic_func(w, x, b))) - np.dot((1 - y), np.log(1 - logistic_func(w, x, b)))\n",
    "\n",
    "    return 1/m * np.sum(L)"
   ]
  },
  {
   "cell_type": "code",
   "execution_count": 21,
   "id": "c37a88cd-c6e8-48f9-bb25-c069954618cd",
   "metadata": {},
   "outputs": [],
   "source": [
    "w = np.random.random(6) * 0.01\n",
    "b = 1"
   ]
  },
  {
   "cell_type": "code",
   "execution_count": 22,
   "id": "d2d5e537-d479-4fa4-9a89-4cf5a7df8ad4",
   "metadata": {},
   "outputs": [
    {
     "data": {
      "text/plain": [
       "array([0.74067543, 0.74116789, 0.74121452, ..., 0.74016682, 0.74035181,\n",
       "       0.74004332])"
      ]
     },
     "execution_count": 22,
     "metadata": {},
     "output_type": "execute_result"
    }
   ],
   "source": [
    "logistic_func(w, x_train, b)"
   ]
  },
  {
   "cell_type": "code",
   "execution_count": 24,
   "id": "2e7bf41b-6200-4f0f-b501-db23326a0218",
   "metadata": {},
   "outputs": [
    {
     "data": {
      "text/plain": [
       "np.float64(1.2002193201003024)"
      ]
     },
     "execution_count": 24,
     "metadata": {},
     "output_type": "execute_result"
    }
   ],
   "source": [
    "compute_cost(w, b, x_train, y_train)"
   ]
  },
  {
   "cell_type": "code",
   "execution_count": 25,
   "id": "ec869f29-63f2-4a57-aedf-0155fd3f3c35",
   "metadata": {},
   "outputs": [],
   "source": [
    "def grad_desc(w, b, x, y, alpha):\n",
    "    m = x.shape[0]\n",
    "    y_pred = logistic_func(w, x, b)\n",
    "    error = y_pred - y\n",
    "    \n",
    "    dj_dw = 1/m * np.sum(np.dot(x.T, error))\n",
    "    dj_db = 1/m * np.sum(error)\n",
    "\n",
    "    w -= alpha * dj_dw\n",
    "    b -= alpha * dj_db\n",
    "\n",
    "    return w, b"
   ]
  },
  {
   "cell_type": "code",
   "execution_count": 26,
   "id": "cce03e46-d814-4121-8210-410411409086",
   "metadata": {},
   "outputs": [],
   "source": [
    "def logistic_reg(w, b, x, y, alpha, num_epochs):\n",
    "    for i in range(num_epochs):\n",
    "        w, b = grad_desc(w, b, x, y, alpha)\n",
    "        if i % 100000 == 0:\n",
    "            print(\"The cost at iteration \", i, \" is \", compute_cost(w, b, x, y))\n",
    "\n",
    "    return w, b"
   ]
  },
  {
   "cell_type": "code",
   "execution_count": 27,
   "id": "cb063f3f-f854-44d1-aed3-cbdfddcdd031",
   "metadata": {},
   "outputs": [],
   "source": [
    "np.random.seed(42)\n",
    "w = np.random.randn(x_train.shape[1]) * 0.01\n",
    "b = 0"
   ]
  },
  {
   "cell_type": "code",
   "execution_count": 28,
   "id": "e1d180c8-dd96-482f-ab53-0a8994cf9ed0",
   "metadata": {
    "scrolled": true
   },
   "outputs": [
    {
     "name": "stdout",
     "output_type": "stream",
     "text": [
      "The cost at iteration  0  is  0.6712598071756168\n",
      "The cost at iteration  100000  is  0.4135587576385144\n",
      "The cost at iteration  200000  is  0.3981538467028956\n",
      "The cost at iteration  300000  is  0.38538175062791097\n",
      "The cost at iteration  400000  is  0.37482802907639945\n",
      "The cost at iteration  500000  is  0.3661181874598665\n",
      "The cost at iteration  600000  is  0.3589267524759634\n",
      "The cost at iteration  700000  is  0.35297867714703973\n",
      "The cost at iteration  800000  is  0.3480460066360919\n",
      "The cost at iteration  900000  is  0.3439422193858249\n"
     ]
    }
   ],
   "source": [
    "w, b = logistic_reg(w, b, x_train, y_train, 0.001, 1000000)"
   ]
  },
  {
   "cell_type": "code",
   "execution_count": 29,
   "id": "f018c929-cce5-458b-b366-50a5f42b095a",
   "metadata": {},
   "outputs": [],
   "source": [
    "def predict(w, x, b):\n",
    "    y_pred = logistic_func(w, x, b)\n",
    "    return (y_pred >= 0.5).astype(int)"
   ]
  },
  {
   "cell_type": "code",
   "execution_count": 30,
   "id": "2cb65972-fd09-4866-b5a3-43321d0fa8c4",
   "metadata": {},
   "outputs": [
    {
     "name": "stdout",
     "output_type": "stream",
     "text": [
      "Model Accuracy: 87.75%\n"
     ]
    }
   ],
   "source": [
    "y_pred = predict(w, x_test, b)\n",
    "\n",
    "accuracy = np.mean(y_pred == y_test) * 100\n",
    "print(f\"Model Accuracy: {accuracy:.2f}%\")"
   ]
  },
  {
   "cell_type": "code",
   "execution_count": null,
   "id": "01ba47f6-65c5-4cc0-92cd-ee66012b5369",
   "metadata": {},
   "outputs": [],
   "source": []
  }
 ],
 "metadata": {
  "kernelspec": {
   "display_name": "Python 3 (ipykernel)",
   "language": "python",
   "name": "python3"
  },
  "language_info": {
   "codemirror_mode": {
    "name": "ipython",
    "version": 3
   },
   "file_extension": ".py",
   "mimetype": "text/x-python",
   "name": "python",
   "nbconvert_exporter": "python",
   "pygments_lexer": "ipython3",
   "version": "3.11.9"
  }
 },
 "nbformat": 4,
 "nbformat_minor": 5
}
