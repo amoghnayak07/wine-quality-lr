{
 "cells": [
  {
   "cell_type": "code",
   "execution_count": null,
   "id": "29047054-7230-43da-b481-00a9a9b25714",
   "metadata": {},
   "outputs": [],
   "source": []
  }
 ],
 "metadata": {
  "kernelspec": {
   "display_name": "",
   "name": ""
  },
  "language_info": {
   "name": ""
  }
 },
 "nbformat": 4,
 "nbformat_minor": 5
}
